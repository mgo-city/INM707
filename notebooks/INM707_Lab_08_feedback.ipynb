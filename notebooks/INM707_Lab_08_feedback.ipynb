{
  "cells": [
    {
      "cell_type": "markdown",
      "metadata": {
        "id": "view-in-github",
        "colab_type": "text"
      },
      "source": [
        "<a href=\"https://colab.research.google.com/github/mgo-city/INM707/blob/main/notebooks/INM707_Lab_08_feedback.ipynb\" target=\"_parent\"><img src=\"https://colab.research.google.com/assets/colab-badge.svg\" alt=\"Open In Colab\"/></a>"
      ]
    },
    {
      "cell_type": "markdown",
      "source": [
        "# Lab 08 - DQN with Pytorch\n",
        "\n",
        "Steps:\n",
        "- Add wrappers for Dungeon and Ice Dungeon to github repository\n",
        "- Code a replay buffer\n",
        "- Code the DQN\n",
        "- Train\n",
        "- Compare to RLLib DQN \n",
        "\n",
        "This lab will take inspiration from the PyTorch tutorial on DQN, that we will apply to our custom environment Dungeon.\n",
        "\n",
        "https://pytorch.org/tutorials/intermediate/reinforcement_q_learning.html\n",
        "\n",
        "We will adapt the concepts step by step to our environment."
      ],
      "metadata": {
        "id": "DKQ9wr860S2B"
      }
    },
    {
      "cell_type": "code",
      "source": [
        "!pip install git+https://github.com/mgo-city/INM707.git"
      ],
      "metadata": {
        "id": "adbhyYVx21Qw"
      },
      "execution_count": null,
      "outputs": []
    },
    {
      "cell_type": "markdown",
      "metadata": {
        "id": "gQrLwPi20BIA"
      },
      "source": [
        "# Loading the dungeon"
      ]
    },
    {
      "cell_type": "code",
      "execution_count": null,
      "metadata": {
        "id": "VuHDH06W0BIC"
      },
      "outputs": [],
      "source": [
        "from dungeon.dungeon import Dungeon, IceDungeon, index_to_actions\n",
        "import numpy as np\n",
        "import random\n",
        "\n",
        "import matplotlib.pyplot as plt\n"
      ]
    },
    {
      "cell_type": "code",
      "execution_count": null,
      "metadata": {
        "id": "bqLbHO4g0BID",
        "colab": {
          "base_uri": "https://localhost:8080/"
        },
        "outputId": "2cecb745-44fd-4464-962f-7bd813b4a733"
      },
      "outputs": [
        {
          "output_type": "stream",
          "name": "stdout",
          "text": [
            "X X X X X X X X X X X X X X X X X X X X \n",
            "X . . . . . . . . . . X . . . . . . . X \n",
            "X . . . . . . . . . A . . . L . . . . X \n",
            "X . . . . . . L . . . . . . . . X L . X \n",
            "X . . L . . . . . . . . . . . . . . . X \n",
            "X . . . . . . . . X . . . . . . . . . X \n",
            "X . . X . . . . . . . . . . . . . X . X \n",
            "X . . . . L . . . L . . . . . . . . . X \n",
            "X . . . . . . . . L . . . . . . . . . X \n",
            "X . . . . . . . . . . . . . . . . . . X \n",
            "X . . . . . . . . . L . . . . . . . . X \n",
            "X . . . . . . . . . . . . . . . . . . X \n",
            "X . . . . . . . . . . . . L . . . . . X \n",
            "X . . . . X . . . . L . . . . . X . . X \n",
            "X . . . . . . . . . . . . X . . . . . X \n",
            "X . E . . . . . . . . X . . . . . . . X \n",
            "X . . . . . . . . . . . . . . . . . . X \n",
            "X . . . . . . . . . . . . . . . . . . X \n",
            "X . . . . . . . . . . . . . . . . . . X \n",
            "X X X X X X X X X X X X X X X X X X X X \n",
            "\n"
          ]
        }
      ],
      "source": [
        "SIZE_ENVIR = 20\n",
        "\n",
        "my_dungeon = Dungeon(SIZE_ENVIR)\n",
        "my_dungeon.reset()\n",
        "my_dungeon.display()"
      ]
    },
    {
      "cell_type": "code",
      "execution_count": null,
      "metadata": {
        "id": "FgYSlmqK0BIE",
        "colab": {
          "base_uri": "https://localhost:8080/"
        },
        "outputId": "0e0dbd94-faf0-4aab-aa63-c1178693bcff"
      },
      "outputs": [
        {
          "output_type": "stream",
          "name": "stdout",
          "text": [
            "X X X X X X X X X X X X X X X X X X X X \n",
            "X . . . . . . . . . . X . . . . . . . X \n",
            "X . . . . . . . . . . . . . L . . . . X \n",
            "X . . . . . . L . . . . . . . . X L . X \n",
            "X . . L . . . . . . . . . . . . . . . X \n",
            "X . . . . . . . . X . . . . . . . . . X \n",
            "X . . X . . . . . . . . . . . . . X . X \n",
            "X . . A . L . . . L . . . . . . . . . X \n",
            "X . . . . . . . . L . . . . . . . . . X \n",
            "X . . . . . . . . . . . . . . . . . . X \n",
            "X . . . . . . . . . L . . . . . . . . X \n",
            "X . . . . . . . . . . . . . . . . . . X \n",
            "X . . . . . . . . . . . . L . . . . . X \n",
            "X . . . . X . . . . L . . . . . X . . X \n",
            "X . . . . . . . . . . . . X . . . . . X \n",
            "X . E . . . . . . . . X . . . . . . . X \n",
            "X . . . . . . . . . . . . . . . . . . X \n",
            "X . . . . . . . . . . . . . . . . . . X \n",
            "X . . . . . . . . . . . . . . . . . . X \n",
            "X X X X X X X X X X X X X X X X X X X X \n",
            "\n"
          ]
        }
      ],
      "source": [
        "my_dungeon.reset()\n",
        "my_dungeon.display()"
      ]
    },
    {
      "cell_type": "code",
      "execution_count": null,
      "metadata": {
        "id": "L4zellzX0BIF",
        "colab": {
          "base_uri": "https://localhost:8080/"
        },
        "outputId": "b2d94fc6-eaf8-43dc-ab79-f8cd3fecb76f"
      },
      "outputs": [
        {
          "output_type": "stream",
          "name": "stdout",
          "text": [
            "X X X X X X X X X X X X X X X X X X X X \n",
            "X . . . . . . . . . . X . . . . . . . X \n",
            "X . . . . . . . . . . . . . L . . . . X \n",
            "X . . . . . . L . . . . . . . . X L . X \n",
            "X . . L . . . . . . . . . . . . . . . X \n",
            "X . . . . . . . . X . . . . . . . . . X \n",
            "X . . X . . . . . . . . . . . . . X . X \n",
            "X . A . . L . . . L . . . . . . . . . X \n",
            "X . . . . . . . . L . . . . . . . . . X \n",
            "X . . . . . . . . . . . . . . . . . . X \n",
            "X . . . . . . . . . L . . . . . . . . X \n",
            "X . . . . . . . . . . . . . . . . . . X \n",
            "X . . . . . . . . . . . . L . . . . . X \n",
            "X . . . . X . . . . L . . . . . X . . X \n",
            "X . . . . . . . . . . . . X . . . . . X \n",
            "X . E . . . . . . . . X . . . . . . . X \n",
            "X . . . . . . . . . . . . . . . . . . X \n",
            "X . . . . . . . . . . . . . . . . . . X \n",
            "X . . . . . . . . . . . . . . . . . . X \n",
            "X X X X X X X X X X X X X X X X X X X X \n",
            "\n",
            "relative_coordinates\n",
            "[8 0]\n",
            "surroundings\n",
            "[[1 0 0 0 0]\n",
            " [1 0 0 1 0]\n",
            " [1 0 0 0 0]\n",
            " [1 0 0 0 0]\n",
            " [1 0 0 0 0]]\n"
          ]
        }
      ],
      "source": [
        "obs, _, _ = my_dungeon.step('left')\n",
        "my_dungeon.display()\n",
        "for obs_name, o in obs.items():\n",
        "    print(obs_name)\n",
        "    print(o)"
      ]
    },
    {
      "cell_type": "markdown",
      "metadata": {
        "id": "bcmJxXe10BIF"
      },
      "source": [
        "# Exercise 1 - Replay Buffer for Experience replay\n",
        "\n",
        "The first step of this lab is to create a Replay Buffer that will allow us to use Experience Replay and mini-batch learning.\n",
        "- First, we create a class Transition using named tuple, which holds state transition in a dedicated data structure.\n",
        "- Then, create a Replay Memory class that collects transition in a First In First Out fashion (fixed memory size). This Replay memory should convert the states, action, rewards into tensors.\n",
        "\n",
        "The models presented in the Pytorch tutorial are quite generic and can be used as is."
      ]
    },
    {
      "cell_type": "code",
      "source": [
        "# Here, add imports from tutorial that you think are necessary\n"
      ],
      "metadata": {
        "id": "D2EJ_1ij26XK"
      },
      "execution_count": null,
      "outputs": []
    },
    {
      "cell_type": "code",
      "execution_count": null,
      "metadata": {
        "id": "14mpvrWV0BIG"
      },
      "outputs": [],
      "source": [
        "from collections import namedtuple\n",
        "\n",
        "Transition = namedtuple('Transition', ('state', 'action', 'next_state', 'reward'))"
      ]
    },
    {
      "cell_type": "code",
      "execution_count": null,
      "metadata": {
        "id": "dffJy8Ns0BIH"
      },
      "outputs": [],
      "source": [
        "def convert_state(state, normalize, N):\n",
        "\n",
        "    c = state['relative_coordinates'].flatten()\n",
        "    o = state['surroundings'].flatten()\n",
        "\n",
        "    if normalize: \n",
        "      c = c / N\n",
        "      o = o / 4\n",
        "\n",
        "    state_tensor = np.concatenate( [c,o] )\n",
        "    state_tensor = torch.tensor(state_tensor, device=device, dtype = torch.float32).unsqueeze(0)\n",
        "    \n",
        "    return state_tensor\n",
        "    \n",
        "\n",
        "class ReplayMemory:\n",
        "\n",
        "    # TODO: set up normalization and reward scaling\n",
        "    # You can also improve it based ion pytorch tutorial (use dequeue)\n",
        "\n",
        "    def __init__(self, capacity, N, normalize=True, reward_scaling=True):\n",
        "        self.capacity = capacity\n",
        "        self.memory = []\n",
        "        self.position = 0\n",
        "        self.normalize = normalize\n",
        "        self.reward_scaling = reward_scaling\n",
        "        self.N = N\n",
        "\n",
        "    def push(self, state, action, next_state, reward):\n",
        "\n",
        "        \"\"\"Saves a transition.\"\"\"\n",
        "        if len(self.memory) < self.capacity:\n",
        "            self.memory.append(None)\n",
        "        \n",
        "        state_tensor = convert_state(state, self.normalize, self.N)\n",
        "        \n",
        "        if next_state is None:\n",
        "            state_tensor_next = None            \n",
        "        else:\n",
        "            state_tensor_next = convert_state(next_state, self.normalize, self.N)\n",
        "            \n",
        "        action_tensor = torch.tensor([action], device=device).unsqueeze(0)\n",
        "\n",
        "        if self.reward_scaling:\n",
        "            # Scale reward to [0, 1] range\n",
        "            reward = torch.tensor([reward / self.N**2], device=device).unsqueeze(0)\n",
        "        else:\n",
        "            reward = torch.tensor([reward], device=device).unsqueeze(0)\n",
        "\n",
        "        self.memory[self.position] = Transition(state_tensor, action_tensor, state_tensor_next, reward)\n",
        "        self.position = (self.position + 1) % self.capacity\n",
        "\n",
        "    def sample(self, batch_size):\n",
        "        return random.sample(self.memory, batch_size)\n",
        "\n",
        "    def __len__(self):\n",
        "        return len(self.memory)"
      ]
    },
    {
      "cell_type": "markdown",
      "metadata": {
        "id": "Cbc05qmW0BIJ"
      },
      "source": [
        "# Exercise 2: Q-network\n",
        "\n",
        "A Q-network is a neural network that maps states to Q-values for each actions.\n",
        "\n",
        "Implement a first version of Q-networks.\n",
        "Keep it simple (e.g. 3 hidden layers, with Relu activations).\n"
      ]
    },
    {
      "cell_type": "code",
      "execution_count": null,
      "metadata": {
        "id": "N33suzPi0BIJ"
      },
      "outputs": [],
      "source": [
        "import torch\n",
        "import torch.nn as nn\n",
        "import torch.optim as optim\n",
        "import torch.nn.functional as F\n",
        "import torchvision.transforms as T\n",
        "\n",
        "# if gpu is to be used\n",
        "device = torch.device(\"cuda\" if torch.cuda.is_available() else \"cpu\")\n",
        "\n",
        "class DQN(nn.Module):\n",
        "\n",
        "    def __init__(self, input_size, size_hidden, output_size):\n",
        "        super().__init__()\n",
        "        \n",
        "        # Declare the different layers\n",
        "        self.fc1 = nn.Linear(input_size, size_hidden)\n",
        "        self.fc2 = nn.Linear(size_hidden, size_hidden)\n",
        "        self.fc3 = nn.Linear(size_hidden, size_hidden)\n",
        "        self.fc4 = nn.Linear(size_hidden, output_size)\n",
        "        \n",
        "    def forward(self, x):\n",
        "        # Declare how the data flows from input x to output.\n",
        "        x = F.relu(self.fc1(x))\n",
        "        x = F.relu(self.fc2(x))\n",
        "        x = F.relu(self.fc3(x))\n",
        "        output = self.fc4(x)\n",
        "        return output"
      ]
    },
    {
      "cell_type": "markdown",
      "metadata": {
        "id": "0w5KRGVb0BIK"
      },
      "source": [
        "# Exercise 3 - Set up the Q-networks\n",
        "\n",
        "In DQN, the weights of the target network are copied from the weights of policy network every few iterations.\n",
        "\n",
        "We set the frequency of update using TARGET_UPDATE = 10.\n",
        "\n",
        "Instead of RMSprop we will use SGD. "
      ]
    },
    {
      "cell_type": "code",
      "execution_count": null,
      "metadata": {
        "id": "SmJVrk3X0BIK"
      },
      "outputs": [],
      "source": [
        "OBS_SIZE = 5*5 + 2\n",
        "HIDDEN_SIZE = 256\n",
        "ACTION_SIZE = 4\n",
        "\n",
        "Q_network = DQN(OBS_SIZE, HIDDEN_SIZE, ACTION_SIZE).to(device)\n",
        "Q_target = DQN(OBS_SIZE, HIDDEN_SIZE, ACTION_SIZE).to(device)\n",
        "Q_target.load_state_dict(Q_network.state_dict())\n",
        "Q_target.eval()\n",
        "\n",
        "TARGET_UPDATE = 100\n",
        "NORMALIZE = True\n",
        "REWARD_SCALING = False\n",
        "\n",
        "optimizer = optim.SGD(Q_network.parameters(), lr=0.001)\n",
        "memory = ReplayMemory(10000, N = SIZE_ENVIR, reward_scaling=False)\n"
      ]
    },
    {
      "cell_type": "markdown",
      "metadata": {
        "id": "Ey5h63nX0BIL"
      },
      "source": [
        "# Exercise 4 - Epsilon-greedy policy\n",
        "\n",
        "You can take inspiration from pytorch tutorial and implement the select_action function.\n",
        "Or, alternatively, you can implement a E-greedy policy class that will select epsilon greedy actions..\n"
      ]
    },
    {
      "cell_type": "code",
      "execution_count": null,
      "metadata": {
        "id": "maEaBMB10BIM"
      },
      "outputs": [],
      "source": [
        "class E_Greedy_Policy():\n",
        "    \n",
        "    def __init__(self, epsilon, decay, min_epsilon):\n",
        "        \n",
        "        self.epsilon = epsilon\n",
        "        self.epsilon_start = epsilon\n",
        "        self.decay = decay\n",
        "        self.epsilon_min = min_epsilon\n",
        "                \n",
        "    def __call__(self, state):\n",
        "                \n",
        "        is_greedy = random.random() > self.epsilon\n",
        "        \n",
        "        if is_greedy :\n",
        "            # we select greedy action\n",
        "            with torch.no_grad():\n",
        "                Q_network.eval()\n",
        "                Q_values = Q_network(state)\n",
        "                index_action = torch.argmax(Q_values).item()\n",
        "                Q_network.train()\n",
        "        else:\n",
        "            # we sample a random action\n",
        "            index_action = random.randint(0,3)\n",
        "        \n",
        "        return index_action\n",
        "                \n",
        "    def update_epsilon(self):\n",
        "        \n",
        "        self.epsilon = self.epsilon*self.decay\n",
        "        if self.epsilon < self.epsilon_min:\n",
        "            self.epsilon = self.epsilon_min\n",
        "        \n",
        "    def reset(self):\n",
        "        self.epsilon = self.epsilon_start\n",
        "        \n",
        "        \n",
        "policy = E_Greedy_Policy(0.99, decay=0.997, min_epsilon=0.001)"
      ]
    },
    {
      "cell_type": "markdown",
      "metadata": {
        "id": "GG3GcFf20BIM"
      },
      "source": [
        "# Exercise 5 - Training loop"
      ]
    },
    {
      "cell_type": "code",
      "execution_count": null,
      "metadata": {
        "id": "wcSzwTwP0BIM"
      },
      "outputs": [],
      "source": [
        "BATCH_SIZE = 128\n",
        "GAMMA = 0.5\n",
        "\n",
        "def optimize_model():\n",
        "    \n",
        "    transitions = memory.sample(BATCH_SIZE)\n",
        "    batch = Transition(*zip(*transitions))\n",
        "\n",
        "    # Compute a mask of non-final states and concatenate the batch elements\n",
        "    non_final_mask = torch.tensor(tuple(map(lambda s: s is not None,\n",
        "                                          batch.next_state)), device=device, dtype=torch.bool)\n",
        "    non_final_next_states = torch.cat([s for s in batch.next_state\n",
        "                                                if s is not None])\n",
        "    \n",
        "    state_batch = torch.cat(batch.state)\n",
        "    action_batch = torch.cat(batch.action)\n",
        "    reward_batch = torch.cat(batch.reward)\n",
        "    \n",
        "    # Compute Q values using policy net\n",
        "    Q_values = Q_network(state_batch).gather(1, action_batch)\n",
        "    \n",
        "    # Compute next Q values using Q_targets\n",
        "    next_Q_values = torch.zeros(BATCH_SIZE, device=device)\n",
        "    next_Q_values[non_final_mask] = Q_target(non_final_next_states).max(1)[0].detach()\n",
        "    \n",
        "    # Compute targets\n",
        "    target_Q_values = reward_batch + GAMMA * next_Q_values.unsqueeze(1)\n",
        "    \n",
        "    # Compute MSE Loss\n",
        "    loss = F.mse_loss(Q_values, target_Q_values)\n",
        "    \n",
        "    # Optimize the model\n",
        "    optimizer.zero_grad()\n",
        "    loss.backward()\n",
        "    \n",
        "    # Trick: gradient clipping\n",
        "    #for param in Q_network.parameters():\n",
        "    #    param.grad.data.clamp_(-1, 1)\n",
        "        \n",
        "    optimizer.step()\n",
        "    \n",
        "    return loss"
      ]
    },
    {
      "cell_type": "code",
      "execution_count": null,
      "metadata": {
        "id": "grm4x7Z50BIO",
        "colab": {
          "base_uri": "https://localhost:8080/"
        },
        "outputId": "e8ee004d-4c75-41d6-dc64-ec96ee0eed3b"
      },
      "outputs": [
        {
          "output_type": "stream",
          "name": "stdout",
          "text": [
            "Done with the warmup\n",
            "Episode  0 :  reward : -795.0 eps:  0.98703  loss: tensor(19.1350)\n",
            "-79.5\n",
            "Episode  10 :  reward : -233.0 eps:  0.9578156659018894  loss: tensor(10.5060)\n",
            "-456.6\n",
            "Episode  20 :  reward : 399.0 eps:  0.9294660241807036  loss: tensor(25.3520)\n",
            "-394.1\n",
            "Episode  30 :  reward : 23.0 eps:  0.9019554814785994  loss: tensor(14.4039)\n",
            "-560.0\n",
            "Episode  40 :  reward : 346.0 eps:  0.8752592019556485  loss: tensor(7.3027)\n",
            "-187.9\n",
            "Episode  50 :  reward : -305.0 eps:  0.8493530848686524  loss: tensor(10.8077)\n",
            "-339.9\n",
            "Episode  60 :  reward : 45.0 eps:  0.8242137428135844  loss: tensor(16.1184)\n",
            "-432.3\n",
            "Episode  70 :  reward : -755.0 eps:  0.79981848061202  loss: tensor(6.6746)\n",
            "-430.5\n",
            "Episode  80 :  reward : 345.0 eps:  0.776145274822487  loss: tensor(0.7547)\n",
            "-118.3\n",
            "Episode  90 :  reward : 332.0 eps:  0.7531727538582468  loss: tensor(0.2346)\n",
            "-563.6\n",
            "Episode  100 :  reward : -555.0 eps:  0.7308801786935519  loss: tensor(0.2699)\n",
            "-237.5\n",
            "Episode  110 :  reward : -925.0 eps:  0.7092474241409645  loss: tensor(17.2372)\n",
            "-472.2\n",
            "Episode  120 :  reward : -715.0 eps:  0.688254960682834  loss: tensor(5.6618)\n",
            "-200.2\n",
            "Episode  130 :  reward : 128.0 eps:  0.667883836840529  loss: tensor(2.7147)\n",
            "-115.3\n",
            "Episode  140 :  reward : 317.0 eps:  0.6481156620655096  loss: tensor(1.3383)\n",
            "-47.9\n",
            "Episode  150 :  reward : -525.0 eps:  0.6289325901367944  loss: tensor(0.8539)\n",
            "-619.4\n",
            "Episode  160 :  reward : -710.0 eps:  0.61031730304983  loss: tensor(0.8170)\n",
            "-147.2\n",
            "Episode  170 :  reward : -1160.0 eps:  0.5922529953822255  loss: tensor(0.6502)\n",
            "-539.2\n",
            "Episode  180 :  reward : -580.0 eps:  0.5747233591222303  loss: tensor(10.0413)\n",
            "-366.4\n",
            "Episode  190 :  reward : -145.0 eps:  0.5577125689462629  loss: tensor(94.8324)\n",
            "-239.2\n",
            "Episode  200 :  reward : -805.0 eps:  0.5412052679321988  loss: tensor(0.5611)\n",
            "-132.4\n",
            "Episode  210 :  reward : -720.0 eps:  0.5251865536955204  loss: tensor(1.3498)\n",
            "-41.4\n",
            "Episode  220 :  reward : 374.0 eps:  0.5096419649358108  loss: tensor(5.7200)\n",
            "66.5\n",
            "Episode  230 :  reward : 319.0 eps:  0.4945574683814483  loss: tensor(4.6807)\n",
            "28.3\n",
            "Episode  240 :  reward : 329.0 eps:  0.4799194461207152  loss: tensor(3.5383)\n",
            "107.8\n",
            "Episode  250 :  reward : 227.0 eps:  0.46571468330788196  loss: tensor(6.1338)\n",
            "187.5\n",
            "Episode  260 :  reward : 394.0 eps:  0.4519303562331707  loss: tensor(4.0192)\n",
            "-46.9\n",
            "Episode  270 :  reward : 324.0 eps:  0.43855402074582583  loss: tensor(19.2393)\n",
            "195.8\n",
            "Episode  280 :  reward : -9.0 eps:  0.4255736010198415  loss: tensor(7.5378)\n",
            "62.6\n",
            "Episode  290 :  reward : 366.0 eps:  0.4129773786522035  loss: tensor(8.0713)\n",
            "197.7\n",
            "Episode  300 :  reward : 387.0 eps:  0.4007539820838039  loss: tensor(4.0702)\n",
            "7.4\n",
            "Episode  310 :  reward : 398.0 eps:  0.38889237633347773  loss: tensor(3.1555)\n",
            "128.1\n",
            "Episode  320 :  reward : 352.0 eps:  0.37738185303589367  loss: tensor(0.7943)\n",
            "46.8\n",
            "Episode  330 :  reward : 395.0 eps:  0.3662120207743062  loss: tensor(0.7223)\n",
            "-111.3\n",
            "Episode  340 :  reward : -435.0 eps:  0.35537279569944036  loss: tensor(0.6346)\n",
            "39.9\n",
            "Episode  350 :  reward : 378.0 eps:  0.3448543924260414  loss: tensor(4.3147)\n",
            "244.9\n",
            "Episode  360 :  reward : -430.0 eps:  0.33464731519886964  loss: tensor(0.2514)\n",
            "-95.3\n",
            "Episode  370 :  reward : 126.0 eps:  0.32474234932016743  loss: tensor(0.3255)\n",
            "-54.2\n",
            "Episode  380 :  reward : 331.0 eps:  0.3151305528308563  loss: tensor(0.9537)\n",
            "-123.2\n",
            "Episode  390 :  reward : 230.0 eps:  0.30580324843795753  loss: tensor(4.2692)\n",
            "-75.6\n",
            "Episode  400 :  reward : -560.0 eps:  0.296752015680945  loss: tensor(0.0928)\n",
            "-73.3\n",
            "Episode  410 :  reward : 364.0 eps:  0.2879686833299618  loss: tensor(3.0868)\n",
            "2.6\n",
            "Episode  420 :  reward : 372.0 eps:  0.2794453220090349  loss: tensor(0.5706)\n",
            "175.1\n",
            "Episode  430 :  reward : 390.0 eps:  0.2711742370376297  loss: tensor(3.3504)\n",
            "206.4\n",
            "Episode  440 :  reward : 379.0 eps:  0.26314796148408265  loss: tensor(1.3231)\n",
            "133.6\n",
            "Episode  450 :  reward : -560.0 eps:  0.25535924942463895  loss: tensor(0.5618)\n",
            "134.9\n",
            "Episode  460 :  reward : -475.0 eps:  0.2478010694020113  loss: tensor(0.5590)\n",
            "177.1\n",
            "Episode  470 :  reward : 382.0 eps:  0.24046659807755363  loss: tensor(1.0459)\n",
            "236.9\n",
            "Episode  480 :  reward : 334.0 eps:  0.23334921407131903  loss: tensor(0.3312)\n",
            "-25.9\n",
            "Episode  490 :  reward : -500.0 eps:  0.22644249198444116  loss: tensor(0.7508)\n",
            "17.1\n",
            "Episode  500 :  reward : 314.0 eps:  0.21974019659844254  loss: tensor(1.0073)\n",
            "147.4\n",
            "Episode  510 :  reward : 349.0 eps:  0.21323627724623298  loss: tensor(3.7590)\n",
            "348.6\n",
            "Episode  520 :  reward : -38.0 eps:  0.20692486234971638  loss: tensor(0.7274)\n",
            "311.0\n",
            "Episode  530 :  reward : 386.0 eps:  0.20080025411907482  loss: tensor(0.4674)\n",
            "257.5\n",
            "Episode  540 :  reward : 148.0 eps:  0.19485692340894423  loss: tensor(0.2849)\n",
            "326.6\n",
            "Episode  550 :  reward : 392.0 eps:  0.18908950472683844  loss: tensor(6.5292)\n",
            "348.4\n",
            "Episode  560 :  reward : 336.0 eps:  0.1834927913893146  loss: tensor(1.1035)\n",
            "278.9\n",
            "Episode  570 :  reward : 285.0 eps:  0.1780617308215078  loss: tensor(1.9646)\n",
            "254.8\n",
            "Episode  580 :  reward : 191.0 eps:  0.17279141999579084  loss: tensor(1.8039)\n",
            "264.3\n",
            "Episode  590 :  reward : 385.0 eps:  0.16767710100544203  loss: tensor(1.4193)\n",
            "329.4\n",
            "Episode  600 :  reward : 369.0 eps:  0.16271415676932394  loss: tensor(1.1414)\n",
            "266.2\n",
            "Episode  610 :  reward : 389.0 eps:  0.15789810686369657  loss: tensor(6.7890)\n",
            "360.7\n",
            "Episode  620 :  reward : 379.0 eps:  0.1532246034774011  loss: tensor(8.1892)\n",
            "297.3\n",
            "Episode  630 :  reward : 373.0 eps:  0.1486894274867632  loss: tensor(1.6847)\n",
            "252.8\n",
            "Episode  640 :  reward : 394.0 eps:  0.1442884846466721  loss: tensor(2.4863)\n",
            "365.7\n",
            "Episode  650 :  reward : 357.0 eps:  0.14001780189439708  loss: tensor(8.6174)\n",
            "277.8\n",
            "Episode  660 :  reward : 393.0 eps:  0.13587352376280437  loss: tensor(7.3151)\n",
            "334.1\n",
            "Episode  670 :  reward : 391.0 eps:  0.13185190889973625  loss: tensor(6.4671)\n",
            "294.4\n",
            "Episode  680 :  reward : 393.0 eps:  0.12794932669041076  loss: tensor(2.6216)\n",
            "345.1\n",
            "Episode  690 :  reward : 144.0 eps:  0.12416225397979205  loss: tensor(2.1289)\n",
            "222.2\n",
            "Episode  700 :  reward : 371.0 eps:  0.12048727189197293  loss: tensor(3.0448)\n",
            "339.8\n",
            "Episode  710 :  reward : 384.0 eps:  0.11692106274369779  loss: tensor(3.3001)\n",
            "292.4\n",
            "Episode  720 :  reward : 396.0 eps:  0.11346040704924014  loss: tensor(3.9836)\n",
            "353.3\n",
            "Episode  730 :  reward : 387.0 eps:  0.11010218061393003  loss: tensor(5.9615)\n",
            "368.6\n",
            "Episode  740 :  reward : 385.0 eps:  0.10684335171370828  loss: tensor(3.8461)\n",
            "360.8\n",
            "Episode  750 :  reward : 266.0 eps:  0.10368097835816062  loss: tensor(2.5422)\n",
            "350.4\n",
            "Episode  760 :  reward : 392.0 eps:  0.10061220563456125  loss: tensor(11.3228)\n",
            "346.9\n",
            "Episode  770 :  reward : 394.0 eps:  0.09763426313052807  loss: tensor(3.9891)\n",
            "354.2\n",
            "Episode  780 :  reward : 286.0 eps:  0.09474446243296256  loss: tensor(1.4428)\n",
            "314.9\n",
            "Episode  790 :  reward : 378.0 eps:  0.09194019470101675  loss: tensor(7.2491)\n",
            "367.3\n",
            "Episode  800 :  reward : 392.0 eps:  0.08921892831089603  loss: tensor(1.1321)\n",
            "246.9\n",
            "Episode  810 :  reward : 358.0 eps:  0.08657820657037152  loss: tensor(2.4589)\n",
            "350.9\n",
            "Episode  820 :  reward : 389.0 eps:  0.08401564550093889  loss: tensor(8.7861)\n",
            "371.2\n",
            "Episode  830 :  reward : 379.0 eps:  0.08152893168562139  loss: tensor(3.1274)\n",
            "298.8\n",
            "Episode  840 :  reward : 393.0 eps:  0.07911582018047386  loss: tensor(2.4604)\n",
            "390.0\n",
            "Episode  850 :  reward : 388.0 eps:  0.0767741324879028  loss: tensor(4.2209)\n",
            "377.8\n",
            "Episode  860 :  reward : 263.0 eps:  0.07450175458997244  loss: tensor(2.8534)\n",
            "364.9\n",
            "Episode  870 :  reward : 392.0 eps:  0.07229663503992138  loss: tensor(3.7504)\n",
            "389.2\n",
            "Episode  880 :  reward : 296.0 eps:  0.07015678311016703  loss: tensor(2.7661)\n",
            "376.1\n",
            "Episode  890 :  reward : 394.0 eps:  0.06808026699512584  loss: tensor(1.2158)\n",
            "303.7\n",
            "Episode  900 :  reward : 297.0 eps:  0.0660652120672268  loss: tensor(1.8020)\n",
            "326.5\n",
            "Episode  910 :  reward : 382.0 eps:  0.06410979918454389  loss: tensor(1.9336)\n",
            "376.6\n",
            "Episode  920 :  reward : 203.0 eps:  0.0622122630485196  loss: tensor(1.8953)\n",
            "368.3\n",
            "Episode  930 :  reward : 385.0 eps:  0.06037089061029686  loss: tensor(3.1126)\n",
            "362.8\n",
            "Episode  940 :  reward : 390.0 eps:  0.05858401952422075  loss: tensor(4.1143)\n",
            "352.5\n",
            "Episode  950 :  reward : 373.0 eps:  0.056850036647113855  loss: tensor(1.8815)\n",
            "363.0\n",
            "Episode  960 :  reward : 302.0 eps:  0.05516737658197032  loss: tensor(4.1848)\n",
            "271.7\n",
            "Episode  970 :  reward : 379.0 eps:  0.05353452026475406  loss: tensor(1.4912)\n",
            "322.7\n",
            "Episode  980 :  reward : 388.0 eps:  0.05194999359302514  loss: tensor(2.0283)\n",
            "379.1\n",
            "Episode  990 :  reward : 371.0 eps:  0.050412366095156445  loss: tensor(7.0299)\n",
            "368.4\n",
            "Complete\n"
          ]
        }
      ],
      "source": [
        "num_episodes = 1000\n",
        "\n",
        "policy.reset()\n",
        "\n",
        "rewards_history = []\n",
        "\n",
        "# Warmup phase!\n",
        "memory_filled = False\n",
        "\n",
        "while not memory_filled:\n",
        "    \n",
        "    my_dungeon = Dungeon(SIZE_ENVIR)\n",
        "    state = my_dungeon.reset()\n",
        "    done = False\n",
        "        \n",
        "    while not done:\n",
        "        \n",
        "        # Get action and act in the world\n",
        "        state_tensor = convert_state(state, NORMALIZE, SIZE_ENVIR)\n",
        "        action = policy(state_tensor)\n",
        "        action_name = index_to_actions[action].name \n",
        "        next_state, reward, done = my_dungeon.step(action_name)\n",
        "                \n",
        "        # Observe new state\n",
        "        if done:\n",
        "            next_state = None\n",
        "\n",
        "        # Store the transition in memory\n",
        "        memory.push(state, action, next_state, float(reward))\n",
        "        \n",
        "        state = next_state\n",
        "\n",
        "\n",
        "    memory_filled = memory.capacity == len(memory)\n",
        "\n",
        "print('Done with the warmup')\n",
        "    \n",
        "for i_episode in range(num_episodes):\n",
        "    \n",
        "    # New dungeon at every run?\n",
        "    my_dungeon = Dungeon(SIZE_ENVIR)\n",
        "    state = my_dungeon.reset()\n",
        "    done = False\n",
        "    \n",
        "    total_reward = 0\n",
        "    \n",
        "    while not done:\n",
        "        \n",
        "        # Get action and act in the world\n",
        "        state_tensor = convert_state(state, NORMALIZE, SIZE_ENVIR)\n",
        "        \n",
        "        action = policy(state_tensor)\n",
        "        action_name = index_to_actions[action].name \n",
        "        next_state, reward, done = my_dungeon.step(action_name)\n",
        "        \n",
        "        total_reward += float(reward)\n",
        "        \n",
        "        # Observe new state\n",
        "        if done:\n",
        "            next_state = None\n",
        "\n",
        "        # Store the transition in memory\n",
        "        memory.push(state, action, next_state, float(reward))\n",
        "\n",
        "        # Move to the next state\n",
        "        state = next_state\n",
        "\n",
        "        # Perform one step of the optimization\n",
        "        started_training = True\n",
        "        l = optimize_model()\n",
        "\n",
        "    policy.update_epsilon()\n",
        "    rewards_history.append( float(total_reward) )\n",
        "\n",
        "    \n",
        "    # Update the target network, copying all weights and biases in DQN\n",
        "    if i_episode % TARGET_UPDATE == 0:\n",
        "        # We copy the Q-net state into Q-target state\n",
        "        Q_target.load_state_dict(Q_network.state_dict())\n",
        "    \n",
        "    if (i_episode) % 10 == 0:\n",
        "        \n",
        "        print('Episode ', i_episode, ': ', 'reward :',  total_reward, 'eps: ', \n",
        "              policy.epsilon, ' loss:', l.detach().cpu())   \n",
        "        print( sum(rewards_history[-10:])/10)    \n",
        "\n",
        "print('Complete')\n"
      ]
    },
    {
      "cell_type": "code",
      "execution_count": null,
      "metadata": {
        "id": "gWWCY-6b0BIO",
        "colab": {
          "base_uri": "https://localhost:8080/",
          "height": 447
        },
        "outputId": "1e0b8d64-03eb-47eb-cd91-9c53e3ec5ccc"
      },
      "outputs": [
        {
          "output_type": "execute_result",
          "data": {
            "text/plain": [
              "[<matplotlib.lines.Line2D at 0x7f96b6154370>]"
            ]
          },
          "metadata": {},
          "execution_count": 22
        },
        {
          "output_type": "display_data",
          "data": {
            "text/plain": [
              "<Figure size 640x480 with 1 Axes>"
            ],
            "image/png": "[encoded data removed]"
          },
          "metadata": {}
        }
      ],
      "source": [
        "plt.plot(rewards_history, 'b.', alpha=.1)"
      ]
    },
    {
      "cell_type": "code",
      "execution_count": null,
      "metadata": {
        "id": "yEykqwc90BIO"
      },
      "outputs": [],
      "source": []
    },
    {
      "cell_type": "markdown",
      "source": [
        "# Exercise 5 - Compare results for your DQN, and RLLib DQN"
      ],
      "metadata": {
        "id": "Cu1ejVbg3NrC"
      }
    },
    {
      "cell_type": "code",
      "source": [],
      "metadata": {
        "id": "MFmM-Vi23VOx"
      },
      "execution_count": null,
      "outputs": []
    }
  ],
  "metadata": {
    "kernelspec": {
      "display_name": "Python 3 (ipykernel)",
      "language": "python",
      "name": "python3"
    },
    "language_info": {
      "codemirror_mode": {
        "name": "ipython",
        "version": 3
      },
      "file_extension": ".py",
      "mimetype": "text/x-python",
      "name": "python",
      "nbconvert_exporter": "python",
      "pygments_lexer": "ipython3",
      "version": "3.9.7"
    },
    "colab": {
      "provenance": [],
      "include_colab_link": true
    }
  },
  "nbformat": 4,
  "nbformat_minor": 0
}