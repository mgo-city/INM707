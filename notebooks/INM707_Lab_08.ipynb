{
  "cells": [
    {
      "cell_type": "markdown",
      "metadata": {
        "id": "view-in-github",
        "colab_type": "text"
      },
      "source": [
        "<a href=\"https://colab.research.google.com/github/mgo-city/INM707/blob/main/notebooks/INM707_Lab_08.ipynb\" target=\"_parent\"><img src=\"https://colab.research.google.com/assets/colab-badge.svg\" alt=\"Open In Colab\"/></a>"
      ]
    },
    {
      "cell_type": "markdown",
      "source": [
        "# Lab 08 - DQN with Pytorch\n",
        "\n",
        "Steps:\n",
        "- Add wrappers for Dungeon and Ice Dungeon to github repository\n",
        "- Code a replay buffer\n",
        "- Code the DQN\n",
        "- Train\n",
        "- Compare to RLLib DQN \n",
        "\n",
        "This lab will take inspiration from the PyTorch tutorial on DQN, that we will apply to our custom environment Dungeon.\n",
        "\n",
        "https://pytorch.org/tutorials/intermediate/reinforcement_q_learning.html\n",
        "\n",
        "We will adapt the concepts step by step to our environment."
      ],
      "metadata": {
        "id": "DKQ9wr860S2B"
      }
    },
    {
      "cell_type": "markdown",
      "metadata": {
        "id": "gQrLwPi20BIA"
      },
      "source": [
        "# Loading the dungeon"
      ]
    },
    {
      "cell_type": "code",
      "execution_count": null,
      "metadata": {
        "colab": {
          "base_uri": "https://localhost:8080/",
          "height": 384
        },
        "id": "VuHDH06W0BIC",
        "outputId": "b3ae2d88-3eec-4f15-b245-7f1df74d6472"
      },
      "outputs": [
        {
          "output_type": "error",
          "ename": "ModuleNotFoundError",
          "evalue": "ignored",
          "traceback": [
            "\u001b[0;31m---------------------------------------------------------------------------\u001b[0m",
            "\u001b[0;31mModuleNotFoundError\u001b[0m                       Traceback (most recent call last)",
            "\u001b[0;32m<ipython-input-1-badaf9366471>\u001b[0m in \u001b[0;36m<module>\u001b[0;34m\u001b[0m\n\u001b[0;32m----> 1\u001b[0;31m \u001b[0;32mfrom\u001b[0m \u001b[0mdungeon\u001b[0m\u001b[0;34m.\u001b[0m\u001b[0mdungeon\u001b[0m \u001b[0;32mimport\u001b[0m \u001b[0mDungeon\u001b[0m\u001b[0;34m,\u001b[0m \u001b[0mIceDungeon\u001b[0m\u001b[0;34m,\u001b[0m \u001b[0mindex_to_actions\u001b[0m\u001b[0;34m\u001b[0m\u001b[0;34m\u001b[0m\u001b[0m\n\u001b[0m\u001b[1;32m      2\u001b[0m \u001b[0;32mimport\u001b[0m \u001b[0mnumpy\u001b[0m \u001b[0;32mas\u001b[0m \u001b[0mnp\u001b[0m\u001b[0;34m\u001b[0m\u001b[0;34m\u001b[0m\u001b[0m\n\u001b[1;32m      3\u001b[0m \u001b[0;32mimport\u001b[0m \u001b[0mrandom\u001b[0m\u001b[0;34m\u001b[0m\u001b[0;34m\u001b[0m\u001b[0m\n\u001b[1;32m      4\u001b[0m \u001b[0;34m\u001b[0m\u001b[0m\n\u001b[1;32m      5\u001b[0m \u001b[0;32mimport\u001b[0m \u001b[0mmatplotlib\u001b[0m\u001b[0;34m.\u001b[0m\u001b[0mpyplot\u001b[0m \u001b[0;32mas\u001b[0m \u001b[0mplt\u001b[0m\u001b[0;34m\u001b[0m\u001b[0;34m\u001b[0m\u001b[0m\n",
            "\u001b[0;31mModuleNotFoundError\u001b[0m: No module named 'dungeon'",
            "",
            "\u001b[0;31m---------------------------------------------------------------------------\u001b[0;32m\nNOTE: If your import is failing due to a missing package, you can\nmanually install dependencies using either !pip or !apt.\n\nTo view examples of installing some common dependencies, click the\n\"Open Examples\" button below.\n\u001b[0;31m---------------------------------------------------------------------------\u001b[0m\n"
          ],
          "errorDetails": {
            "actions": [
              {
                "action": "open_url",
                "actionText": "Open Examples",
                "url": "/notebooks/snippets/importing_libraries.ipynb"
              }
            ]
          }
        }
      ],
      "source": [
        "from dungeon.dungeon import Dungeon, IceDungeon, index_to_actions\n",
        "import numpy as np\n",
        "import random\n",
        "\n",
        "import matplotlib.pyplot as plt\n"
      ]
    },
    {
      "cell_type": "code",
      "execution_count": null,
      "metadata": {
        "id": "bqLbHO4g0BID"
      },
      "outputs": [],
      "source": [
        "SIZE_ENVIR = 15\n",
        "\n",
        "my_dungeon = Dungeon(SIZE_ENVIR)\n",
        "my_dungeon.reset()\n",
        "my_dungeon.display()"
      ]
    },
    {
      "cell_type": "code",
      "execution_count": null,
      "metadata": {
        "id": "FgYSlmqK0BIE"
      },
      "outputs": [],
      "source": [
        "my_dungeon.reset()\n",
        "my_dungeon.display()"
      ]
    },
    {
      "cell_type": "code",
      "execution_count": null,
      "metadata": {
        "id": "L4zellzX0BIF"
      },
      "outputs": [],
      "source": [
        "obs, _, _ = my_dungeon.step('left')\n",
        "my_dungeon.display()\n",
        "for obs_name, o in obs.items():\n",
        "    print(obs_name)\n",
        "    print(o)"
      ]
    },
    {
      "cell_type": "markdown",
      "metadata": {
        "id": "bcmJxXe10BIF"
      },
      "source": [
        "# Exercise 1 - Replay Buffer for Experience replay\n",
        "\n",
        "The first step of this lab is to create a Replay Buffer that will allow us to use Experience Replay and mini-batch learning.\n",
        "- First, we create a class Transition using named tuple, which holds state transition in a dedicated data structure.\n",
        "- Then, create a Replay Memory class that collects transition in a First In First Out fashion (fixed memory size). This Replay memory should convert the states, action, rewards into tensors.\n",
        "\n",
        "The models presented in the Pytorch tutorial are quite generic and can be used as is."
      ]
    },
    {
      "cell_type": "code",
      "source": [
        "# Here, add imports from tutorial that you think are necessary\n"
      ],
      "metadata": {
        "id": "D2EJ_1ij26XK"
      },
      "execution_count": null,
      "outputs": []
    },
    {
      "cell_type": "code",
      "execution_count": null,
      "metadata": {
        "id": "14mpvrWV0BIG"
      },
      "outputs": [],
      "source": [
        "from collections import namedtuple\n",
        "\n",
        "Transition = namedtuple('Transition', (...))"
      ]
    },
    {
      "cell_type": "code",
      "execution_count": null,
      "metadata": {
        "id": "dffJy8Ns0BIH"
      },
      "outputs": [],
      "source": [
        "def convert_state(state, normalize):\n",
        "\n",
        "    c = state['relative_coordinates'].flatten()\n",
        "    o = state['surroundings'].flatten()\n",
        "\n",
        "    if normalize: \n",
        "      ... \n",
        "\n",
        "    state_tensor = np.concatenate( [c,o] )\n",
        "    state_tensor = torch.tensor(state_tensor, device=device).unsqueeze(0)\n",
        "    \n",
        "    return state_tensor\n",
        "    \n",
        "\n",
        "class ReplayMemory:\n",
        "\n",
        "    # TODO: set up normalization and reward scaling\n",
        "    # You can also improve it based ion pytorch tutorial (use dequeue)\n",
        "\n",
        "    def __init__(self, capacity):\n",
        "        self.capacity = capacity\n",
        "        self.memory = []\n",
        "        self.position = 0\n",
        "\n",
        "    def push(self, state, action, next_state, reward):\n",
        "\n",
        "        \"\"\"Saves a transition.\"\"\"\n",
        "        if len(self.memory) < self.capacity:\n",
        "            self.memory.append(None)\n",
        "        \n",
        "        state_tensor = convert_state(state)\n",
        "        \n",
        "        if next_state is None:\n",
        "            state_tensor_next = None            \n",
        "        else:\n",
        "            state_tensor_next = convert_state(next_state)\n",
        "            \n",
        "        action_tensor = torch.tensor([action], device=device).unsqueeze(0)\n",
        "\n",
        "        reward = torch.tensor([reward], device=device).unsqueeze(0)\n",
        "        if self.reward_scaling:\n",
        "          ...\n",
        "\n",
        "        self.memory[self.position] = Transition(state_tensor, action_tensor, state_tensor_next, reward)\n",
        "        self.position = (self.position + 1) % self.capacity\n",
        "\n",
        "    def sample(self, batch_size):\n",
        "        return random.sample(self.memory, batch_size)\n",
        "\n",
        "    def __len__(self):\n",
        "        return len(self.memory)"
      ]
    },
    {
      "cell_type": "markdown",
      "metadata": {
        "id": "Cbc05qmW0BIJ"
      },
      "source": [
        "# Exercise 2: Q-network\n",
        "\n",
        "A Q-network is a neural network that maps states to Q-values for each actions.\n",
        "\n",
        "Implement a first version of Q-networks.\n",
        "Keep it simple (e.g. 3 hidden layers, with Relu activations).\n"
      ]
    },
    {
      "cell_type": "code",
      "execution_count": null,
      "metadata": {
        "id": "N33suzPi0BIJ"
      },
      "outputs": [],
      "source": [
        "import torch\n",
        "import torch.nn as nn\n",
        "import torch.optim as optim\n",
        "import torch.nn.functional as F\n",
        "import torchvision.transforms as T\n",
        "\n",
        "# if gpu is to be used\n",
        "device = torch.device(\"cuda\" if torch.cuda.is_available() else \"cpu\")\n",
        "\n",
        "class DQN(nn.Module):\n",
        "\n",
        "    def __init__(self, input_size, size_hidden, output_size):\n",
        "        \n",
        "        super().__init__()\n",
        "        \n",
        "        # Declare the different layers\n",
        "        \n",
        "        \n",
        "    def forward(self, x):\n",
        "        \n",
        "        # Declare how the data flows from input x to output.\n",
        "        \n",
        "        return output\n",
        "    "
      ]
    },
    {
      "cell_type": "markdown",
      "metadata": {
        "id": "0w5KRGVb0BIK"
      },
      "source": [
        "# Exercise 3 - Set up the Q-networks\n",
        "\n",
        "In DQN, the weights of the target network are copied from the weights of policy network every few iterations.\n",
        "\n",
        "We set the frequency of update using TARGET_UPDATE = 10.\n",
        "\n",
        "Instead of RMSprop we will use SGD. "
      ]
    },
    {
      "cell_type": "code",
      "execution_count": null,
      "metadata": {
        "id": "SmJVrk3X0BIK"
      },
      "outputs": [],
      "source": [
        "OBS_SIZE = 5*5 + 2\n",
        "HIDDEN_SIZE = 64\n",
        "ACTION_SIZE = 4\n",
        "\n",
        "Q_network = DQN(OBS_SIZE, HIDDEN_SIZE, ACTION_SIZE).to(device)\n",
        "Q_target = DQN(OBS_SIZE, HIDDEN_SIZE, ACTION_SIZE).to(device)\n",
        "Q_target.load_state_dict(Q_network.state_dict())\n",
        "Q_target.eval()\n",
        "\n",
        "TARGET_UPDATE = 100\n",
        "\n",
        "optimizer = optim.SGD(Q_network.parameters(), lr=0.001)\n",
        "memory = ReplayMemory(10000)\n"
      ]
    },
    {
      "cell_type": "markdown",
      "metadata": {
        "id": "Ey5h63nX0BIL"
      },
      "source": [
        "# Exercise 4 - Epsilon-greedy policy\n",
        "\n",
        "You can take inspiration from pytorch tutorial and implement the select_action function.\n",
        "Or, alternatively, you can implement a E-greedy policy class that will select epsilon greedy actions..\n"
      ]
    },
    {
      "cell_type": "code",
      "execution_count": null,
      "metadata": {
        "id": "maEaBMB10BIM"
      },
      "outputs": [],
      "source": [
        "class E_Greedy_Policy():\n",
        "    \n",
        "    def __init__(self, epsilon, decay, min_epsilon):\n",
        "        \n",
        "        self.epsilon = epsilon\n",
        "        self.epsilon_start = epsilon\n",
        "        self.decay = decay\n",
        "        self.epsilon_min = min_epsilon\n",
        "                \n",
        "    def __call__(self, state):\n",
        "                \n",
        "        is_greedy = random.random() > self.epsilon\n",
        "        \n",
        "        if is_greedy :\n",
        "            # we select greedy action\n",
        "            with torch.no_grad():\n",
        "                Q_network.eval()\n",
        "                index_action = # take action corresponding to max Q-value\n",
        "                Q_network.train()\n",
        "        else:\n",
        "            # we sample a random action\n",
        "            index_action = random.randint(0,3)\n",
        "        \n",
        "        return index_action\n",
        "                \n",
        "    def update_epsilon(self):\n",
        "        \n",
        "        self.epsilon = self.epsilon*self.decay\n",
        "        if self.epsilon < self.epsilon_min:\n",
        "            self.epsilon = self.epsilon_min\n",
        "        \n",
        "    def reset(self):\n",
        "        self.epsilon = self.epsilon_start\n",
        "        \n",
        "        \n",
        "policy = E_Greedy_Policy(0.99, decay=0.997, min_epsilon=0.001)"
      ]
    },
    {
      "cell_type": "markdown",
      "metadata": {
        "id": "GG3GcFf20BIM"
      },
      "source": [
        "# Exercise 5 - Training loop"
      ]
    },
    {
      "cell_type": "code",
      "execution_count": null,
      "metadata": {
        "id": "wcSzwTwP0BIM"
      },
      "outputs": [],
      "source": [
        "BATCH_SIZE = 256\n",
        "GAMMA = 0.5\n",
        "\n",
        "def optimize_model():\n",
        "    \n",
        "    transitions = memory.sample(BATCH_SIZE)\n",
        "    batch = Transition(*zip(*transitions))\n",
        "\n",
        "    # Compute a mask of non-final states and concatenate the batch elements\n",
        "    non_final_mask = torch.tensor(tuple(map(lambda s: s is not None,\n",
        "                                          batch.next_state)), device=device, dtype=torch.bool)\n",
        "    non_final_next_states = torch.cat([s for s in batch.next_state\n",
        "                                                if s is not None])\n",
        "    \n",
        "    state_batch = torch.cat(batch.state)\n",
        "    action_batch = torch.cat(batch.action)\n",
        "    reward_batch = torch.cat(batch.reward)\n",
        "    \n",
        "    # Compute Q values using policy net\n",
        "    Q_values = ...\n",
        "    \n",
        "    # Compute next Q values using Q_targets\n",
        "    next_Q_values = ...\n",
        "    \n",
        "    # Compute targets\n",
        "    target_Q_values = ...\n",
        "    \n",
        "    # Compute MSE Loss\n",
        "    loss = F.mse_loss(Q_values, target_Q_values)\n",
        "    \n",
        "    # Optimize the model\n",
        "    optimizer.zero_grad()\n",
        "    loss.backward()\n",
        "    \n",
        "    # Trick: gradient clipping\n",
        "    for param in Q_network.parameters():\n",
        "        param.grad.data.clamp_(-1, 1)\n",
        "        \n",
        "    optimizer.step()\n",
        "    \n",
        "    return loss"
      ]
    },
    {
      "cell_type": "code",
      "execution_count": null,
      "metadata": {
        "id": "grm4x7Z50BIO"
      },
      "outputs": [],
      "source": [
        "num_episodes = 1000\n",
        "\n",
        "policy.reset()\n",
        "\n",
        "rewards_history = []\n",
        "\n",
        "# Warmup phase!\n",
        "memory_filled = False\n",
        "\n",
        "while not memory_filled:\n",
        "    \n",
        "    my_dungeon = Dungeon(SIZE_ENVIR)\n",
        "    state = my_dungeon.reset()\n",
        "    done = False\n",
        "    \n",
        "    total_reward = 0\n",
        "    \n",
        "    while not done:\n",
        "        \n",
        "        # Get action and act in the world\n",
        "        state_tensor = convert_state(state)\n",
        "        \n",
        "        action = policy(state_tensor)\n",
        "        action_name = index_to_actions[action].name \n",
        "        next_state, reward, done = my_dungeon.step(action_name)\n",
        "        \n",
        "        total_reward += float(reward)\n",
        "        \n",
        "        # Observe new state\n",
        "        if done:\n",
        "            next_state = None\n",
        "\n",
        "        # Store the transition in memory\n",
        "        memory.push(state, action, next_state, float(reward))\n",
        "        \n",
        "        state = next_state\n",
        "\n",
        "\n",
        "    memory_filled = memory.capacity == len(memory)\n",
        "\n",
        "print('Done with the warmup')\n",
        "    \n",
        "    \n",
        "for i_episode in range(num_episodes):\n",
        "    \n",
        "    # New dungeon at every run?\n",
        "    my_dungeon = Dungeon(SIZE_ENVIR)\n",
        "    state = my_dungeon.reset()\n",
        "    done = False\n",
        "    \n",
        "    total_reward = 0\n",
        "    \n",
        "    while not done:\n",
        "        \n",
        "        # Get action and act in the world\n",
        "        state_tensor = convert_state(state)\n",
        "        \n",
        "        action = policy(state_tensor)\n",
        "        action_name = index_to_actions[action].name \n",
        "        next_state, reward, done = my_dungeon.step(action_name)\n",
        "        \n",
        "        total_reward += float(reward)\n",
        "        \n",
        "        # Observe new state\n",
        "        if done:\n",
        "            next_state = None\n",
        "\n",
        "        # Store the transition in memory\n",
        "        ... \n",
        "\n",
        "        # Move to the next state\n",
        "        state = next_state\n",
        "\n",
        "        # Perform one step of the optimization\n",
        "        started_training = True\n",
        "        l = optimize_model()\n",
        "\n",
        "    policy.update_epsilon()\n",
        "    rewards_history.append( float(total_reward) )\n",
        "\n",
        "    \n",
        "    # Update the target network, copying all weights and biases in DQN\n",
        "    if i_episode % TARGET_UPDATE == 0:\n",
        "\n",
        "        # We copy the Q-net state into Q-target state\n",
        "    \n",
        "    if (i_episode) % 10 == 0:\n",
        "        \n",
        "        print('Episode ', i_episode, ': ', 'reward :',  total_reward, 'eps: ', \n",
        "              policy.epsilon, ' loss:', l.detach().cpu())   \n",
        "        print( sum(rewards_history[-10:])/10)    \n",
        "\n",
        "print('Complete')\n"
      ]
    },
    {
      "cell_type": "code",
      "execution_count": null,
      "metadata": {
        "id": "gWWCY-6b0BIO"
      },
      "outputs": [],
      "source": [
        "plt.plot(rewards_history, 'b.', alpha=.1)"
      ]
    },
    {
      "cell_type": "code",
      "execution_count": null,
      "metadata": {
        "id": "yEykqwc90BIO"
      },
      "outputs": [],
      "source": []
    },
    {
      "cell_type": "markdown",
      "source": [
        "# Exercise 5 - Compare results for your DQN, and RLLib DQN"
      ],
      "metadata": {
        "id": "Cu1ejVbg3NrC"
      }
    },
    {
      "cell_type": "code",
      "source": [],
      "metadata": {
        "id": "MFmM-Vi23VOx"
      },
      "execution_count": null,
      "outputs": []
    }
  ],
  "metadata": {
    "kernelspec": {
      "display_name": "Python 3 (ipykernel)",
      "language": "python",
      "name": "python3"
    },
    "language_info": {
      "codemirror_mode": {
        "name": "ipython",
        "version": 3
      },
      "file_extension": ".py",
      "mimetype": "text/x-python",
      "name": "python",
      "nbconvert_exporter": "python",
      "pygments_lexer": "ipython3",
      "version": "3.9.7"
    },
    "colab": {
      "provenance": [],
      "include_colab_link": true
    }
  },
  "nbformat": 4,
  "nbformat_minor": 0
}